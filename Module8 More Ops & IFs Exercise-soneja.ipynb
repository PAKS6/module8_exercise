{
 "cells": [
  {
   "cell_type": "markdown",
   "metadata": {},
   "source": [
    "### Exercise 1\n",
    "Ask for an exam score and store that number. If the number is greater than 100, then print out 'You cannot have an exam score higher than 100'. If the number doesn't exceeed 100 but is greater than or equal to 75, then print out 'You did great on your exam!'. Otherwise if they scored lower than 75, then print out 'You need to study harder'."
   ]
  },
  {
   "cell_type": "code",
   "execution_count": 40,
   "metadata": {},
   "outputs": [
    {
     "name": "stdout",
     "output_type": "stream",
     "text": [
      "Enter your exam score: 98\n",
      "You did great on your exam!\n"
     ]
    }
   ],
   "source": [
    "exam_score= float(input(\"Enter your exam score: \"))\n",
    "if (exam_score > 100.0):\n",
    "    print(\"You cannot have an exam score higher than 100.\")\n",
    "elif (exam_score >= 75.0):\n",
    "    print(\"You did great on your exam!\")\n",
    "elif (exam_score < 75.0):\n",
    "    print(\"You need to study harder.\")\n",
    "    \n",
    "    "
   ]
  },
  {
   "cell_type": "markdown",
   "metadata": {},
   "source": [
    "### Exercise 2\n",
    "Ask a user to enter two numbers and find their average. Then, print out the average and whether each number is below or above average. Determine if a function should be created or not.\n",
    "    "
   ]
  },
  {
   "cell_type": "code",
   "execution_count": 28,
   "metadata": {},
   "outputs": [
    {
     "name": "stdout",
     "output_type": "stream",
     "text": [
      "Enter first number:  9\n",
      "Enter second number:  8\n",
      "The Average is 8.5\n"
     ]
    }
   ],
   "source": [
    "a = int(input(\"Enter first number:  \"))\n",
    "b = int(input(\"Enter second number:  \"))\n",
    "print(f\"The Average is {(a + b)/2}\")"
   ]
  },
  {
   "cell_type": "code",
   "execution_count": 35,
   "metadata": {},
   "outputs": [
    {
     "name": "stdout",
     "output_type": "stream",
     "text": [
      "enter first number: 56\n",
      "enter second number: 78\n",
      "The Average is 67.0\n"
     ]
    }
   ],
   "source": [
    "def average():\n",
    "    a = int(input(\"enter first number: \"))\n",
    "    b= int(input(\"enter second number: \"))\n",
    "    c=(a + b)/2\n",
    "    print(f\"The Average is {c}\" )\n",
    "          \n",
    "\n",
    "average()"
   ]
  },
  {
   "cell_type": "markdown",
   "metadata": {},
   "source": [
    "Yes the function should be created as it is easy to call the function rather than typing it everytime."
   ]
  },
  {
   "cell_type": "markdown",
   "metadata": {},
   "source": [
    "### Exercise 3\n",
    "Write a function to convert a test score to a grade where  \n",
    " - 90 - 100: A\n",
    " - 80 - 89:  B\n",
    " - 70 - 79:  C\n",
    " - 60 - 69:  D\n",
    " - < 60   :  F\n",
    " \n",
    "If a score is not between 0 and 100 then print out an error message. In the program, ask the user for a score and then call your function. "
   ]
  },
  {
   "cell_type": "code",
   "execution_count": 23,
   "metadata": {},
   "outputs": [
    {
     "name": "stdout",
     "output_type": "stream",
     "text": [
      "enter your marks scored: 104.3\n",
      "Error\n"
     ]
    }
   ],
   "source": [
    "def grade (numb):\n",
    "    if (numb > 100.0) or (numb < 0.0): \n",
    "        print (\"Error\")\n",
    "    elif (numb >= 90.0) and (numb <= 100.0):\n",
    "        print (\"Your grade is A\")\n",
    "    elif (numb >= 80.0) and (numb <= 89.9):\n",
    "        print (\"Your grade is B\")\n",
    "    elif (numb >= 70.0) and (numb <= 79.9):\n",
    "        print (\"Your grade is C\")\n",
    "    elif (numb >= 60.0) and (numb <= 69.9):\n",
    "        print (\"Your grade is D\")\n",
    "    elif (numb < 60.0):\n",
    "        print (\"Your grade is F\")\n",
    "    \n",
    "        \n",
    "numb = float (input (\"enter your marks scored: \"))\n",
    "grade(numb)   \n",
    "    "
   ]
  },
  {
   "cell_type": "markdown",
   "metadata": {},
   "source": [
    "### Exercise 4\n",
    "Convert following decimal number to a binary number by hand:\n",
    "\n",
    "    61\n",
    "    15\n",
    "    71\n",
    "    "
   ]
  },
  {
   "cell_type": "code",
   "execution_count": null,
   "metadata": {},
   "outputs": [],
   "source": [
    "61\n",
    "61 // 2 = 30   61 % 2 = 1\n",
    "30 // 2 = 15   30 % 2 = 0\n",
    "15 // 2 = 7    15 % 2 = 1\n",
    "7 // 2 = 3    7 % 2 = 1\n",
    "3 // 2 = 1    3 % 2 = 1\n",
    "1 // 2 = 1    1 % 2 = 1\n",
    "0b00111101\n",
    "\n",
    "\n",
    "15\n",
    "15 // 2 = 7    15 % 2 = 1\n",
    "7 // 2 = 3    7 % 2 = 1\n",
    "3 // 2 = 1    3 % 2 = 1\n",
    "1 // 2 = 1    1 % 2 = 1\n",
    "0b00001111\n",
    "\n",
    "71\n",
    "71 // 2 = 35   71 % 2 = 1\n",
    "35 // 2 = 17   35 % 2 = 1\n",
    "17 // 2 = 8    17 % 2 = 1\n",
    "8 // 2 = 4    8 % 2 = 0\n",
    "4 // 2 = 2    4 % 2 = 0\n",
    "2 // 2 = 1    2 % 2 = 0\n",
    "1 // 2 = 1    1 % 2 = 1\n",
    "0b01000111"
   ]
  },
  {
   "cell_type": "markdown",
   "metadata": {},
   "source": [
    "### Exercise 5\n",
    "When a = 61 and b = 15, what is the result of following bitwise opertion? Use inline comments to show your result in a binary number. Find your answer by hand.\n",
    "\n",
    "    a & b\n",
    "    a | b\n",
    "    a ^ b\n",
    "    a >> 2\n",
    "    "
   ]
  },
  {
   "cell_type": "code",
   "execution_count": 1,
   "metadata": {},
   "outputs": [
    {
     "data": {
      "text/plain": [
       "'0b111101'"
      ]
     },
     "execution_count": 1,
     "metadata": {},
     "output_type": "execute_result"
    }
   ],
   "source": [
    "a=61\n",
    "bin(61)"
   ]
  },
  {
   "cell_type": "code",
   "execution_count": 2,
   "metadata": {},
   "outputs": [
    {
     "data": {
      "text/plain": [
       "'0b1111'"
      ]
     },
     "execution_count": 2,
     "metadata": {},
     "output_type": "execute_result"
    }
   ],
   "source": [
    "b=15\n",
    "bin(15)\n"
   ]
  },
  {
   "cell_type": "code",
   "execution_count": null,
   "metadata": {},
   "outputs": [],
   "source": [
    "# a= 0011 1101     b = 0000 1111\n",
    "a & b is 11001101\n",
    "a & b = 13"
   ]
  },
  {
   "cell_type": "code",
   "execution_count": null,
   "metadata": {},
   "outputs": [],
   "source": [
    "a | b is 00111111\n",
    "a | b = 63"
   ]
  },
  {
   "cell_type": "code",
   "execution_count": null,
   "metadata": {},
   "outputs": [],
   "source": [
    "a ^ b is 00110010\n",
    "a ^ b = 50"
   ]
  },
  {
   "cell_type": "code",
   "execution_count": null,
   "metadata": {},
   "outputs": [],
   "source": [
    "a >> 2 is 00001111\n",
    "a >> 2 = 15"
   ]
  }
 ],
 "metadata": {
  "kernelspec": {
   "display_name": "Python 3 (ipykernel)",
   "language": "python",
   "name": "python3"
  },
  "language_info": {
   "codemirror_mode": {
    "name": "ipython",
    "version": 3
   },
   "file_extension": ".py",
   "mimetype": "text/x-python",
   "name": "python",
   "nbconvert_exporter": "python",
   "pygments_lexer": "ipython3",
   "version": "3.9.7"
  }
 },
 "nbformat": 4,
 "nbformat_minor": 4
}
